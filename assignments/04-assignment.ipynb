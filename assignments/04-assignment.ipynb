{
 "cells": [
  {
   "cell_type": "markdown",
   "metadata": {},
   "source": [
    "# QTM 350 - Data Science Computing\n",
    "\n",
    "## Assignment 04: Advanced Git\n",
    "### Due 19 February 2025\n",
    "\n",
    "In this assignment, you will explore Git in more depth, focusing on commands we have not covered in class. You should research how to solve each task using specific Git commands. Feel free to use any tools you prefer to complete the assignment. Explain each command in simple terms. Of course, you are welcome to test them as well! If you have any questions, please let me know.\n"
   ]
  },
  {
   "cell_type": "markdown",
   "metadata": {},
   "source": [
    "\n",
    "### Questions\n",
    "\n",
    "#### 1. What command would you use to display all the commits that have not yet been pushed to the remote repository?\n"
   ]
  },
  {
   "cell_type": "markdown",
   "metadata": {},
   "source": [
    "```bash\n",
    "git log origin/main..HEAD\n",
    "```"
   ]
  },
  {
   "cell_type": "markdown",
   "metadata": {},
   "source": [
    "- **Explanation**: This command compares the local branch (`HEAD`) with the remote branch (`origin/main`) and shows the commits that exist in the local branch but not in the remote branch. Replace `main` with the name of your branch if it’s different."
   ]
  },
  {
   "cell_type": "markdown",
   "metadata": {},
   "source": [
    "#### 2. Explain the purpose of the `git tag` command.\n",
    "   \n"
   ]
  },
  {
   "cell_type": "markdown",
   "metadata": {},
   "source": [
    "The `git tag` command is used to create, list, or delete tags in a Git repository. Tags are used to mark specific points in the repository’s history as important, such as release versions (e.g., `v1.0.0`).\n",
    "\n",
    "- **Example**:\n",
    "  ```bash\n",
    "  git tag v1.0.0\n",
    "  ```\n",
    "  This creates a tag named `v1.0.0` at the current commit."
   ]
  },
  {
   "cell_type": "markdown",
   "metadata": {},
   "source": [
    "#### 3. How do you remove a file from the repository history?\n",
    "   \n",
    "To remove a file from the repository history, we can use the `git filter-branch` command or the `BFG Repo-Cleaner` tool. \n",
    "\n",
    "```bash\n",
    "git filter-branch --force --index-filter \\\n",
    "  'git rm --cached --ignore-unmatch path/to/file' \\\n",
    "  --prune-empty --tag-name-filter cat -- --all\n",
    "```\n",
    "\n",
    "- **Explanation**: This command removes the file from all commits in the repository history. Replace `path/to/file` with the actual file path. After running this, we'll need to force-push the changes to the remote repository.\n"
   ]
  },
  {
   "cell_type": "markdown",
   "metadata": {},
   "source": [
    "\n",
    "\n",
    "#### 4. How do you temporarily save your changes without committing them?\n",
    "\n",
    "We can temporarily save your changes using the `git stash` command:\n",
    "\n",
    "```bash\n",
    "git stash\n",
    "```\n",
    "\n",
    "- **Explanation**: This command saves our uncommitted changes (both staged and unstaged) in a \"stash\" and reverts our working directory to the last commit. We can reapply the changes later using `git stash apply`.\n"
   ]
  },
  {
   "cell_type": "markdown",
   "metadata": {},
   "source": [
    "\n",
    "   \n",
    "#### 5. How do you amend the most recent commit message?\n",
    "\n",
    "To amend the most recent commit message, use the following command:\n",
    "\n",
    "```bash\n",
    "git commit --amend\n",
    "```\n",
    "\n",
    "- **Explanation**: This opens our default text editor, allowing us to modify the commit message. Save and close the editor to update the commit message.\n",
    "   \n"
   ]
  },
  {
   "cell_type": "markdown",
   "metadata": {},
   "source": [
    "#### 6. How can you split a commit into multiple commits?\n",
    "\n",
    "To split a commit into multiple commits, we can use an interactive rebase:\n",
    "\n",
    "```bash\n",
    "git rebase -i HEAD~n\n",
    "```\n",
    "\n",
    "- **Explanation**: Replace `n` with the number of commits we want to go back. In the interactive rebase editor, mark the commit you want to split with `edit`. After saving and closing the editor, use:\n",
    "\n",
    "```bash\n",
    "git reset HEAD~\n",
    "```\n",
    "\n",
    "This will unstage the changes from the commit. We can then stage and commit the changes in smaller chunks.\n",
    "\n"
   ]
  },
  {
   "cell_type": "markdown",
   "metadata": {},
   "source": [
    "\n",
    "   \n",
    "#### 7. How do you display the changes between two branches?\n",
    "\n",
    "To display the changes between two branches, use:\n",
    "\n",
    "```bash\n",
    "git diff branch1..branch2\n",
    "```\n",
    "\n",
    "- **Explanation**: This shows the differences between the tips of `branch1` and `branch2`. Replace `branch1` and `branch2` with the actual branch names.\n",
    "\n",
    "   \n"
   ]
  },
  {
   "cell_type": "markdown",
   "metadata": {},
   "source": [
    "#### 8. What command would you use to see which remote repository a local repository is connected to?\n",
    "\n",
    "To see which remote repository a local repository is connected to, use:\n",
    "\n",
    "```bash\n",
    "git remote -v\n",
    "```\n",
    "\n",
    "- **Explanation**: This displays the remote repository URL(s) associated with the local repository.\n",
    "\n"
   ]
  },
  {
   "cell_type": "markdown",
   "metadata": {},
   "source": [
    "\n",
    "\n",
    "#### 9.  Explain the difference between `git merge` and `git rebase`.\n",
    "\n",
    "\n",
    "- **`git merge`**:\n",
    "  - Combines the changes from one branch into another.\n",
    "  - Creates a new \"merge commit\" that ties together the histories of both branches.\n",
    "  - Preserves the entire history of both branches.\n",
    "\n",
    "- **`git rebase`**:\n",
    "  - Moves or \"replays\" commits from one branch onto another.\n",
    "  - Creates a linear history by rewriting the commit history.\n",
    "  - Avoids merge commits but can make the history harder to follow.\n",
    "\n",
    "    \n"
   ]
  },
  {
   "cell_type": "markdown",
   "metadata": {},
   "source": [
    "#### 10.  How can you search for a specific commit message?\n",
    "\n",
    "To search for a specific commit message, use:\n",
    "\n",
    "```bash\n",
    "git log --grep=\"search term\"\n",
    "```\n",
    "\n",
    "- **Explanation**: This searches the commit messages for the specified term. Replace `\"search term\"` with the text we're looking for.\n"
   ]
  }
 ],
 "metadata": {
  "language_info": {
   "name": "python"
  }
 },
 "nbformat": 4,
 "nbformat_minor": 2
}
